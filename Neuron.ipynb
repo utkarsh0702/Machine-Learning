{
 "cells": [
  {
   "cell_type": "code",
   "execution_count": 3,
   "metadata": {},
   "outputs": [],
   "source": [
    "import numpy as np\n",
    "import random as rd"
   ]
  },
  {
   "cell_type": "code",
   "execution_count": 72,
   "metadata": {},
   "outputs": [
    {
     "name": "stdout",
     "output_type": "stream",
     "text": [
      "The weight before training are:\n",
      "[[0.09762701]\n",
      " [0.43037873]\n",
      " [0.20552675]]\n",
      "The weight after training are:\n",
      "[[ 6.62453261]\n",
      " [-0.20268395]\n",
      " [-1.73080302]]\n",
      "The predicted output of [1,0,0] is:\n",
      "[0.99867436]\n"
     ]
    }
   ],
   "source": [
    "error_report=[]\n",
    "class Neuron():\n",
    "    def __init__(self):\n",
    "        np.random.seed(0)\n",
    "        #Initializing random weights for the neuron \n",
    "        self.weights= 2* np.random.random((3,1)) -1\n",
    "    \n",
    "    def sig(self, x):\n",
    "        # sigmoid activation function\n",
    "        return 1/ (1+ np.exp(-x))\n",
    "    \n",
    "    def sig_der(self, x):\n",
    "        # sigmoid derivation\n",
    "        return x*(1+x)\n",
    "    \n",
    "    def predict(self, x):\n",
    "        return self.sig(np.dot(x,self.weights))\n",
    "    \n",
    "    def fit(self, x, y, epochs, lr= 0.1):\n",
    "        # training the neuron and adjusting the weight\n",
    "        for i in range(epochs):\n",
    "            output= self.predict(x)\n",
    "            error= output-y\n",
    "            error_report.append(np.mean(error))\n",
    "            adjust= np.dot(x.T, error*self.sig_der(output))\n",
    "            self.weights= self.weights-(lr*adjust)\n",
    "\n",
    "\n",
    "if __name__=='__main__':\n",
    "    neuron= Neuron()\n",
    "    print('The weight before training are:')\n",
    "    print(neuron.weights)\n",
    "    train_inputs = np.array([[0, 0, 1], [1, 1, 1], [1, 0, 1], [0, 1, 1]]) \n",
    "    train_outputs = np.array([[0, 1, 1, 0]]).T\n",
    "    neuron.fit(train_inputs, train_outputs, 1000, lr= 0.05)\n",
    "    print('The weight after training are:')\n",
    "    print(neuron.weights)\n",
    "    \n",
    "    print('The predicted output of [1,0,0] is:')\n",
    "    print(neuron.predict(np.array([1,0,0])))"
   ]
  },
  {
   "cell_type": "code",
   "execution_count": 73,
   "metadata": {},
   "outputs": [
    {
     "data": {
      "image/png": "[encoded data removed]",
      "text/plain": [
       "<Figure size 432x288 with 1 Axes>"
      ]
     },
     "metadata": {
      "needs_background": "light"
     },
     "output_type": "display_data"
    }
   ],
   "source": [
    "import matplotlib.pyplot as plt\n",
    "\n",
    "epochs= range(1000)\n",
    "plt.figure()\n",
    "plt.scatter(epochs,error_report)\n",
    "plt.show()"
   ]
  },
  {
   "cell_type": "code",
   "execution_count": null,
   "metadata": {},
   "outputs": [],
   "source": []
  }
 ],
 "metadata": {
  "kernelspec": {
   "display_name": "Python 3",
   "language": "python",
   "name": "python3"
  },
  "language_info": {
   "codemirror_mode": {
    "name": "ipython",
    "version": 3
   },
   "file_extension": ".py",
   "mimetype": "text/x-python",
   "name": "python",
   "nbconvert_exporter": "python",
   "pygments_lexer": "ipython3",
   "version": "3.7.3"
  }
 },
 "nbformat": 4,
 "nbformat_minor": 2
}
